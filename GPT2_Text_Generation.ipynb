{
  "nbformat": 4,
  "nbformat_minor": 0,
  "metadata": {
    "colab": {
      "name": "GPT2-Text_Generation.ipynb",
      "provenance": []
    },
    "kernelspec": {
      "name": "python3",
      "display_name": "Python 3"
    }
  },
  "cells": [
    {
      "cell_type": "code",
      "metadata": {
        "id": "tf4zIfo_FPSe",
        "colab_type": "code",
        "colab": {
          "base_uri": "https://localhost:8080/",
          "height": 127
        },
        "outputId": "0817c5af-4572-4322-e092-ba98f1aa5f57"
      },
      "source": [
        "# Cloning the repo\n",
        "!git clone https://github.com/paras55/GPT2_text_generation"
      ],
      "execution_count": 1,
      "outputs": [
        {
          "output_type": "stream",
          "text": [
            "Cloning into 'GPT2_text_generation'...\n",
            "remote: Enumerating objects: 18, done.\u001b[K\n",
            "remote: Counting objects:   5% (1/18)\u001b[K\rremote: Counting objects:  11% (2/18)\u001b[K\rremote: Counting objects:  16% (3/18)\u001b[K\rremote: Counting objects:  22% (4/18)\u001b[K\rremote: Counting objects:  27% (5/18)\u001b[K\rremote: Counting objects:  33% (6/18)\u001b[K\rremote: Counting objects:  38% (7/18)\u001b[K\rremote: Counting objects:  44% (8/18)\u001b[K\rremote: Counting objects:  50% (9/18)\u001b[K\rremote: Counting objects:  55% (10/18)\u001b[K\rremote: Counting objects:  61% (11/18)\u001b[K\rremote: Counting objects:  66% (12/18)\u001b[K\rremote: Counting objects:  72% (13/18)\u001b[K\rremote: Counting objects:  77% (14/18)\u001b[K\rremote: Counting objects:  83% (15/18)\u001b[K\rremote: Counting objects:  88% (16/18)\u001b[K\rremote: Counting objects:  94% (17/18)\u001b[K\rremote: Counting objects: 100% (18/18)\u001b[K\rremote: Counting objects: 100% (18/18), done.\u001b[K\n",
            "remote: Compressing objects:   6% (1/15)\u001b[K\rremote: Compressing objects:  13% (2/15)\u001b[K\rremote: Compressing objects:  20% (3/15)\u001b[K\rremote: Compressing objects:  26% (4/15)\u001b[K\rremote: Compressing objects:  33% (5/15)\u001b[K\rremote: Compressing objects:  40% (6/15)\u001b[K\rremote: Compressing objects:  46% (7/15)\u001b[K\rremote: Compressing objects:  53% (8/15)\u001b[K\rremote: Compressing objects:  60% (9/15)\u001b[K\rremote: Compressing objects:  66% (10/15)\u001b[K\rremote: Compressing objects:  73% (11/15)\u001b[K\rremote: Compressing objects:  80% (12/15)\u001b[K\rremote: Compressing objects:  86% (13/15)\u001b[K\rremote: Compressing objects:  93% (14/15)\u001b[K\rremote: Compressing objects: 100% (15/15)\u001b[K\rremote: Compressing objects: 100% (15/15), done.\u001b[K\n",
            "Unpacking objects:   5% (1/18)   \rUnpacking objects:  11% (2/18)   \rUnpacking objects:  16% (3/18)   \rUnpacking objects:  22% (4/18)   \rUnpacking objects:  27% (5/18)   \rUnpacking objects:  33% (6/18)   \rUnpacking objects:  38% (7/18)   \rUnpacking objects:  44% (8/18)   \rUnpacking objects:  50% (9/18)   \rUnpacking objects:  55% (10/18)   \rUnpacking objects:  61% (11/18)   \rremote: Total 18 (delta 0), reused 0 (delta 0), pack-reused 0\u001b[K\n",
            "Unpacking objects:  66% (12/18)   \rUnpacking objects:  72% (13/18)   \rUnpacking objects:  77% (14/18)   \rUnpacking objects:  83% (15/18)   \rUnpacking objects:  88% (16/18)   \rUnpacking objects:  94% (17/18)   \rUnpacking objects: 100% (18/18)   \rUnpacking objects: 100% (18/18), done.\n"
          ],
          "name": "stdout"
        }
      ]
    },
    {
      "cell_type": "code",
      "metadata": {
        "id": "LKnBxN0zFSWu",
        "colab_type": "code",
        "colab": {
          "base_uri": "https://localhost:8080/",
          "height": 35
        },
        "outputId": "376c0bf3-30fd-435c-f91b-74ce2ebfe8d0"
      },
      "source": [
        "#Cd into Directory\n",
        "%cd GPT2_text_generation/"
      ],
      "execution_count": 2,
      "outputs": [
        {
          "output_type": "stream",
          "text": [
            "/content/GPT2_text_generation\n"
          ],
          "name": "stdout"
        }
      ]
    },
    {
      "cell_type": "code",
      "metadata": {
        "id": "-D-9kfsQFWap",
        "colab_type": "code",
        "colab": {
          "base_uri": "https://localhost:8080/",
          "height": 72
        },
        "outputId": "3a0e8848-d111-4be1-8166-41705d71ef9f"
      },
      "source": [
        "#Downloading GPT-2 model file \n",
        "!curl --output gpt2-pytorch_model.bin https://s3.amazonaws.com/models.huggingface.co/bert/gpt2-pytorch_model.bin"
      ],
      "execution_count": 3,
      "outputs": [
        {
          "output_type": "stream",
          "text": [
            "  % Total    % Received % Xferd  Average Speed   Time    Time     Time  Current\n",
            "                                 Dload  Upload   Total   Spent    Left  Speed\n",
            "100  522M  100  522M    0     0  40.7M      0  0:00:12  0:00:12 --:--:-- 42.9M\n"
          ],
          "name": "stdout"
        }
      ]
    },
    {
      "cell_type": "code",
      "metadata": {
        "id": "aoaNkB-rFYDp",
        "colab_type": "code",
        "colab": {
          "base_uri": "https://localhost:8080/",
          "height": 276
        },
        "outputId": "89272062-fbd6-4c60-8230-9d3a757bca4b"
      },
      "source": [
        "#Instaling the requirements\n",
        "!pip install -r requirements.txt"
      ],
      "execution_count": 4,
      "outputs": [
        {
          "output_type": "stream",
          "text": [
            "Collecting regex==2017.4.5\n",
            "\u001b[?25l  Downloading https://files.pythonhosted.org/packages/36/62/c0c0d762ffd4ffaf39f372eb8561b8d491a11ace5a7884610424a8b40f95/regex-2017.04.05.tar.gz (601kB)\n",
            "\r\u001b[K     |▌                               | 10kB 15.8MB/s eta 0:00:01\r\u001b[K     |█                               | 20kB 2.7MB/s eta 0:00:01\r\u001b[K     |█▋                              | 30kB 3.7MB/s eta 0:00:01\r\u001b[K     |██▏                             | 40kB 4.2MB/s eta 0:00:01\r\u001b[K     |██▊                             | 51kB 3.1MB/s eta 0:00:01\r\u001b[K     |███▎                            | 61kB 3.6MB/s eta 0:00:01\r\u001b[K     |███▉                            | 71kB 3.9MB/s eta 0:00:01\r\u001b[K     |████▍                           | 81kB 4.3MB/s eta 0:00:01\r\u001b[K     |█████                           | 92kB 4.5MB/s eta 0:00:01\r\u001b[K     |█████▌                          | 102kB 4.4MB/s eta 0:00:01\r\u001b[K     |██████                          | 112kB 4.4MB/s eta 0:00:01\r\u001b[K     |██████▌                         | 122kB 4.4MB/s eta 0:00:01\r\u001b[K     |███████                         | 133kB 4.4MB/s eta 0:00:01\r\u001b[K     |███████▋                        | 143kB 4.4MB/s eta 0:00:01\r\u001b[K     |████████▏                       | 153kB 4.4MB/s eta 0:00:01\r\u001b[K     |████████▊                       | 163kB 4.4MB/s eta 0:00:01\r\u001b[K     |█████████▎                      | 174kB 4.4MB/s eta 0:00:01\r\u001b[K     |█████████▉                      | 184kB 4.4MB/s eta 0:00:01\r\u001b[K     |██████████▍                     | 194kB 4.4MB/s eta 0:00:01\r\u001b[K     |███████████                     | 204kB 4.4MB/s eta 0:00:01\r\u001b[K     |███████████▍                    | 215kB 4.4MB/s eta 0:00:01\r\u001b[K     |████████████                    | 225kB 4.4MB/s eta 0:00:01\r\u001b[K     |████████████▌                   | 235kB 4.4MB/s eta 0:00:01\r\u001b[K     |█████████████                   | 245kB 4.4MB/s eta 0:00:01\r\u001b[K     |█████████████▋                  | 256kB 4.4MB/s eta 0:00:01\r\u001b[K     |██████████████▏                 | 266kB 4.4MB/s eta 0:00:01\r\u001b[K     |██████████████▊                 | 276kB 4.4MB/s eta 0:00:01\r\u001b[K     |███████████████▎                | 286kB 4.4MB/s eta 0:00:01\r\u001b[K     |███████████████▉                | 296kB 4.4MB/s eta 0:00:01\r\u001b[K     |████████████████▍               | 307kB 4.4MB/s eta 0:00:01\r\u001b[K     |████████████████▉               | 317kB 4.4MB/s eta 0:00:01\r\u001b[K     |█████████████████▍              | 327kB 4.4MB/s eta 0:00:01\r\u001b[K     |██████████████████              | 337kB 4.4MB/s eta 0:00:01\r\u001b[K     |██████████████████▌             | 348kB 4.4MB/s eta 0:00:01\r\u001b[K     |███████████████████             | 358kB 4.4MB/s eta 0:00:01\r\u001b[K     |███████████████████▋            | 368kB 4.4MB/s eta 0:00:01\r\u001b[K     |████████████████████▏           | 378kB 4.4MB/s eta 0:00:01\r\u001b[K     |████████████████████▊           | 389kB 4.4MB/s eta 0:00:01\r\u001b[K     |█████████████████████▎          | 399kB 4.4MB/s eta 0:00:01\r\u001b[K     |█████████████████████▉          | 409kB 4.4MB/s eta 0:00:01\r\u001b[K     |██████████████████████▎         | 419kB 4.4MB/s eta 0:00:01\r\u001b[K     |██████████████████████▉         | 430kB 4.4MB/s eta 0:00:01\r\u001b[K     |███████████████████████▍        | 440kB 4.4MB/s eta 0:00:01\r\u001b[K     |████████████████████████        | 450kB 4.4MB/s eta 0:00:01\r\u001b[K     |████████████████████████▌       | 460kB 4.4MB/s eta 0:00:01\r\u001b[K     |█████████████████████████       | 471kB 4.4MB/s eta 0:00:01\r\u001b[K     |█████████████████████████▋      | 481kB 4.4MB/s eta 0:00:01\r\u001b[K     |██████████████████████████▏     | 491kB 4.4MB/s eta 0:00:01\r\u001b[K     |██████████████████████████▊     | 501kB 4.4MB/s eta 0:00:01\r\u001b[K     |███████████████████████████▎    | 512kB 4.4MB/s eta 0:00:01\r\u001b[K     |███████████████████████████▊    | 522kB 4.4MB/s eta 0:00:01\r\u001b[K     |████████████████████████████▎   | 532kB 4.4MB/s eta 0:00:01\r\u001b[K     |████████████████████████████▉   | 542kB 4.4MB/s eta 0:00:01\r\u001b[K     |█████████████████████████████▍  | 552kB 4.4MB/s eta 0:00:01\r\u001b[K     |██████████████████████████████  | 563kB 4.4MB/s eta 0:00:01\r\u001b[K     |██████████████████████████████▌ | 573kB 4.4MB/s eta 0:00:01\r\u001b[K     |███████████████████████████████ | 583kB 4.4MB/s eta 0:00:01\r\u001b[K     |███████████████████████████████▋| 593kB 4.4MB/s eta 0:00:01\r\u001b[K     |████████████████████████████████| 604kB 4.4MB/s \n",
            "\u001b[?25hBuilding wheels for collected packages: regex\n",
            "  Building wheel for regex (setup.py) ... \u001b[?25l\u001b[?25hdone\n",
            "  Created wheel for regex: filename=regex-2017.4.5-cp36-cp36m-linux_x86_64.whl size=533204 sha256=fa496cdab646ca16d87626f94966ba80876e2886ebed6e7110d0585f6a50c7af\n",
            "  Stored in directory: /root/.cache/pip/wheels/75/07/38/3c16b529d50cb4e0cd3dbc7b75cece8a09c132692c74450b01\n",
            "Successfully built regex\n",
            "Installing collected packages: regex\n",
            "  Found existing installation: regex 2019.12.20\n",
            "    Uninstalling regex-2019.12.20:\n",
            "      Successfully uninstalled regex-2019.12.20\n",
            "Successfully installed regex-2017.4.5\n"
          ],
          "name": "stdout"
        }
      ]
    },
    {
      "cell_type": "code",
      "metadata": {
        "id": "6tw0b8xNFbOH",
        "colab_type": "code",
        "colab": {
          "base_uri": "https://localhost:8080/",
          "height": 257
        },
        "outputId": "15c1fc35-7c9a-4553-8dbf-d969066c310b"
      },
      "source": [
        "#Running the file \n",
        "# Enter the line from which you want to generate text and click enter\n",
        "!python main.py"
      ],
      "execution_count": 5,
      "outputs": [
        {
          "output_type": "stream",
          "text": [
            "Enter the text : I went to school today\n",
            "I went to school today\n",
            "100% 512/512 [00:36<00:00, 14.21it/s]\n",
            "U: A BJP-led alliance in the state will now have to put in place a special fund to help state households with food insecurity that could be used to provide support to the state's struggling agricultural sector.The BJP-led coalition government is expected to get involved in the project within two months, making it a priority to ensure that its members are given a good understanding of the issues and that their needs are being met.The fund will be set up for the state's agriculture sector. \"The government is trying to help farmers and non-farmers by providing support to farmers. The fund will help farmers and non-farmers to get a good understanding of the issues and to provide support to farmers,\" said Rajiv Kumar, general secretary of the alliance.The government is also expected to offer to help farmers with food insecurity. The state government has in the past provided assistance to farmers in its role in developing food security. The state government has been working with the Centre and other agencies to develop ways to help farmers. The project will also be an important part of the BJP-led state government's efforts to help farmers.<|endoftext|>The following is an excerpt from a story by author and political scientist Daniel B. Cohen that first appeared on the Internet, October 11, 2012, following the release of a book by the Center for American Progress.\n",
            "\n",
            "When President Obama announced his presidential candidacy in July 2011, he gave his inaugural speech in the city of Washington, D.C., a phrase that he felt was fitting for the state of his state: \"As the national debt grows, so does our debt. The president is making a big bet. He's gonna make it happen. He's gonna do it, and if I'm president, I'm gonna make it happen.\"\n",
            "\n",
            "The president's comments are not without precedent, as the country's fiscal crisis has led to a number of other federal programs being cut, including the Defense Department's budget and the Environmental Protection Agency's budget. But the president has also made other statements that are clearly inconsistent with his economic policies.\n",
            "\n",
            "In a recent interview with the Daily Beast, the Democratic Party's 2012 presidential candidate, Senator Bernie Sanders, said that while he thinks the nation needs to work together to solve the debt problem, the federal government should be acting as an instrument to solve the problem.\n",
            "\n",
            "\"The debt is a problem that we can solve with a $1 trillion tax cut, a $15 trillion trade deal, and $10 trillion in spending cuts,\" Sanders said\n"
          ],
          "name": "stdout"
        }
      ]
    }
  ]
}